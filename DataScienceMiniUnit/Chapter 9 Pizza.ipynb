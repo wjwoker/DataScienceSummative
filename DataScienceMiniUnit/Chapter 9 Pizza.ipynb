{
 "cells": [
  {
   "cell_type": "code",
   "execution_count": 13,
   "metadata": {},
   "outputs": [],
   "source": [
    "import pandas as pd\n",
    "from sklearn.linear_model import LinearRegression, LogisticRegression\n",
    "from sklearn.metrics import mean_squared_error\n",
    "from altair import Chart, X, Y\n",
    "import numpy as np"
   ]
  },
  {
   "cell_type": "code",
   "execution_count": 23,
   "metadata": {},
   "outputs": [
    {
     "data": {
      "text/html": [
       "<div>\n",
       "<style scoped>\n",
       "    .dataframe tbody tr th:only-of-type {\n",
       "        vertical-align: middle;\n",
       "    }\n",
       "\n",
       "    .dataframe tbody tr th {\n",
       "        vertical-align: top;\n",
       "    }\n",
       "\n",
       "    .dataframe thead th {\n",
       "        text-align: right;\n",
       "    }\n",
       "</style>\n",
       "<table border=\"1\" class=\"dataframe\">\n",
       "  <thead>\n",
       "    <tr style=\"text-align: right;\">\n",
       "      <th></th>\n",
       "      <th>Unnamed: 0</th>\n",
       "      <th>Unnamed: 1</th>\n",
       "      <th>diameter</th>\n",
       "      <th>toppings</th>\n",
       "      <th>price</th>\n",
       "      <th>predictions</th>\n",
       "    </tr>\n",
       "  </thead>\n",
       "  <tbody>\n",
       "    <tr>\n",
       "      <th>0</th>\n",
       "      <td>NaN</td>\n",
       "      <td>NaN</td>\n",
       "      <td>6</td>\n",
       "      <td>2</td>\n",
       "      <td>7.0</td>\n",
       "      <td>7.259036</td>\n",
       "    </tr>\n",
       "    <tr>\n",
       "      <th>1</th>\n",
       "      <td>NaN</td>\n",
       "      <td>NaN</td>\n",
       "      <td>8</td>\n",
       "      <td>1</td>\n",
       "      <td>9.0</td>\n",
       "      <td>9.903614</td>\n",
       "    </tr>\n",
       "    <tr>\n",
       "      <th>2</th>\n",
       "      <td>NaN</td>\n",
       "      <td>NaN</td>\n",
       "      <td>10</td>\n",
       "      <td>0</td>\n",
       "      <td>13.0</td>\n",
       "      <td>12.548193</td>\n",
       "    </tr>\n",
       "    <tr>\n",
       "      <th>3</th>\n",
       "      <td>NaN</td>\n",
       "      <td>NaN</td>\n",
       "      <td>14</td>\n",
       "      <td>2</td>\n",
       "      <td>17.5</td>\n",
       "      <td>15.367470</td>\n",
       "    </tr>\n",
       "    <tr>\n",
       "      <th>4</th>\n",
       "      <td>NaN</td>\n",
       "      <td>NaN</td>\n",
       "      <td>18</td>\n",
       "      <td>2</td>\n",
       "      <td>18.0</td>\n",
       "      <td>19.421687</td>\n",
       "    </tr>\n",
       "  </tbody>\n",
       "</table>\n",
       "</div>"
      ],
      "text/plain": [
       "   Unnamed: 0  Unnamed: 1  diameter  toppings  price  predictions\n",
       "0         NaN         NaN         6         2    7.0     7.259036\n",
       "1         NaN         NaN         8         1    9.0     9.903614\n",
       "2         NaN         NaN        10         0   13.0    12.548193\n",
       "3         NaN         NaN        14         2   17.5    15.367470\n",
       "4         NaN         NaN        18         2   18.0    19.421687"
      ]
     },
     "execution_count": 23,
     "metadata": {},
     "output_type": "execute_result"
    }
   ],
   "source": [
    "pdf = pd.read_csv('pizza5.csv')\n",
    "pdf"
   ]
  },
  {
   "cell_type": "code",
   "execution_count": 24,
   "metadata": {},
   "outputs": [
    {
     "data": {
      "text/plain": [
       "LinearRegression(copy_X=True, fit_intercept=True, n_jobs=None, normalize=False)"
      ]
     },
     "execution_count": 24,
     "metadata": {},
     "output_type": "execute_result"
    }
   ],
   "source": [
    "model = LinearRegression()\n",
    "model.fit(pdf[['diameter','toppings']], pdf.price)"
   ]
  },
  {
   "cell_type": "code",
   "execution_count": 25,
   "metadata": {},
   "outputs": [
    {
     "data": {
      "text/plain": [
       "array([ 7.25903614,  9.90361446, 12.54819277, 15.36746988, 19.42168675])"
      ]
     },
     "execution_count": 25,
     "metadata": {},
     "output_type": "execute_result"
    }
   ],
   "source": [
    "model.predict(pdf[['diameter','toppings']])"
   ]
  },
  {
   "cell_type": "code",
   "execution_count": 26,
   "metadata": {},
   "outputs": [
    {
     "data": {
      "text/plain": [
       "array([ 7.25903614,  9.90361446, 12.54819277, 15.36746988, 19.42168675])"
      ]
     },
     "execution_count": 26,
     "metadata": {},
     "output_type": "execute_result"
    }
   ],
   "source": [
    "np.array([ 7.25903614,  9.90361446, 12.54819277, 15.36746988, 19.42168675])"
   ]
  },
  {
   "cell_type": "code",
   "execution_count": 27,
   "metadata": {},
   "outputs": [
    {
     "data": {
      "text/plain": [
       "1.5313253012048187"
      ]
     },
     "execution_count": 27,
     "metadata": {},
     "output_type": "execute_result"
    }
   ],
   "source": [
    "mean_squared_error(pdf.price, model.predict(pdf[['diameter', 'toppings']]))"
   ]
  },
  {
   "cell_type": "code",
   "execution_count": 28,
   "metadata": {},
   "outputs": [
    {
     "data": {
      "application/vnd.vegalite.v3+json": {
       "$schema": "https://vega.github.io/schema/vega-lite/v3.4.0.json",
       "config": {
        "mark": {
         "tooltip": null
        },
        "view": {
         "height": 300,
         "width": 400
        }
       },
       "data": {
        "name": "data-0e0df08134cdcdf8355a10d154b279d5"
       },
       "datasets": {
        "data-0e0df08134cdcdf8355a10d154b279d5": [
         {
          "Unnamed: 0": null,
          "Unnamed: 1": null,
          "diameter": 6,
          "predictions": 7.259036144578316,
          "price": 7,
          "toppings": 2
         },
         {
          "Unnamed: 0": null,
          "Unnamed: 1": null,
          "diameter": 8,
          "predictions": 9.903614457831328,
          "price": 9,
          "toppings": 1
         },
         {
          "Unnamed: 0": null,
          "Unnamed: 1": null,
          "diameter": 10,
          "predictions": 12.548192771084338,
          "price": 13,
          "toppings": 0
         },
         {
          "Unnamed: 0": null,
          "Unnamed: 1": null,
          "diameter": 14,
          "predictions": 15.367469879518074,
          "price": 17.5,
          "toppings": 2
         },
         {
          "Unnamed: 0": null,
          "Unnamed: 1": null,
          "diameter": 18,
          "predictions": 19.42168674698795,
          "price": 18,
          "toppings": 2
         }
        ]
       },
       "layer": [
        {
         "encoding": {
          "x": {
           "field": "diameter",
           "type": "quantitative"
          },
          "y": {
           "field": "price",
           "type": "quantitative"
          }
         },
         "mark": "circle"
        },
        {
         "encoding": {
          "x": {
           "field": "diameter",
           "type": "quantitative"
          },
          "y": {
           "field": "predictions",
           "type": "quantitative"
          }
         },
         "mark": {
          "color": "red",
          "type": "circle"
         }
        }
       ]
      },
      "image/png": "[encoded data removed]",
      "text/plain": [
       "<VegaLite 3 object>\n",
       "\n",
       "If you see this message, it means the renderer has not been properly enabled\n",
       "for the frontend that you are using. For more information, see\n",
       "https://altair-viz.github.io/user_guide/troubleshooting.html\n"
      ]
     },
     "execution_count": 28,
     "metadata": {},
     "output_type": "execute_result"
    }
   ],
   "source": [
    "pdf['predictions'] = model.predict(pdf[['diameter', 'toppings']])\n",
    "Chart(pdf).mark_circle().encode(x='diameter', y='price') + \\\n",
    "Chart(pdf).mark_circle(color='red').encode(x='diameter', y='predictions')"
   ]
  },
  {
   "cell_type": "code",
   "execution_count": 43,
   "metadata": {},
   "outputs": [
    {
     "data": {
      "text/plain": [
       "LinearRegression(copy_X=True, fit_intercept=True, n_jobs=None, normalize=False)"
      ]
     },
     "execution_count": 43,
     "metadata": {},
     "output_type": "execute_result"
    }
   ],
   "source": [
    "model = LinearRegression()\n",
    "model.fit(pdf[['toppings']], pdf.price)"
   ]
  },
  {
   "cell_type": "code",
   "execution_count": 44,
   "metadata": {},
   "outputs": [
    {
     "data": {
      "text/plain": [
       "array([13.59375, 12.4375 , 11.28125, 13.59375, 13.59375])"
      ]
     },
     "execution_count": 44,
     "metadata": {},
     "output_type": "execute_result"
    }
   ],
   "source": [
    "model.predict(pdf[['toppings']])"
   ]
  },
  {
   "cell_type": "code",
   "execution_count": 45,
   "metadata": {},
   "outputs": [
    {
     "data": {
      "application/vnd.vegalite.v3+json": {
       "$schema": "https://vega.github.io/schema/vega-lite/v3.4.0.json",
       "config": {
        "mark": {
         "tooltip": null
        },
        "view": {
         "height": 300,
         "width": 400
        }
       },
       "data": {
        "name": "data-bed96ffae6d502b150e98f1fc42c6371"
       },
       "datasets": {
        "data-bed96ffae6d502b150e98f1fc42c6371": [
         {
          "Unnamed: 0": null,
          "Unnamed: 1": null,
          "diameter": 6,
          "predictions": 13.593750000000002,
          "price": 7,
          "toppings": 2
         },
         {
          "Unnamed: 0": null,
          "Unnamed: 1": null,
          "diameter": 8,
          "predictions": 12.4375,
          "price": 9,
          "toppings": 1
         },
         {
          "Unnamed: 0": null,
          "Unnamed: 1": null,
          "diameter": 10,
          "predictions": 11.28125,
          "price": 13,
          "toppings": 0
         },
         {
          "Unnamed: 0": null,
          "Unnamed: 1": null,
          "diameter": 14,
          "predictions": 13.593750000000002,
          "price": 17.5,
          "toppings": 2
         },
         {
          "Unnamed: 0": null,
          "Unnamed: 1": null,
          "diameter": 18,
          "predictions": 13.593750000000002,
          "price": 18,
          "toppings": 2
         }
        ]
       },
       "layer": [
        {
         "encoding": {
          "x": {
           "field": "toppings",
           "type": "quantitative"
          },
          "y": {
           "field": "price",
           "type": "quantitative"
          }
         },
         "mark": "circle"
        },
        {
         "encoding": {
          "x": {
           "field": "toppings",
           "type": "quantitative"
          },
          "y": {
           "field": "predictions",
           "type": "quantitative"
          }
         },
         "mark": {
          "color": "red",
          "type": "circle"
         }
        }
       ]
      },
      "image/png": "[encoded data removed]",
      "text/plain": [
       "<VegaLite 3 object>\n",
       "\n",
       "If you see this message, it means the renderer has not been properly enabled\n",
       "for the frontend that you are using. For more information, see\n",
       "https://altair-viz.github.io/user_guide/troubleshooting.html\n"
      ]
     },
     "execution_count": 45,
     "metadata": {},
     "output_type": "execute_result"
    }
   ],
   "source": [
    "pdf['predictions'] = model.predict(pdf[['toppings']])\n",
    "Chart(pdf).mark_circle().encode(x='toppings', y='price') + \\\n",
    "Chart(pdf).mark_circle(color='red').encode(x='toppings', y='predictions')"
   ]
  },
  {
   "cell_type": "code",
   "execution_count": 46,
   "metadata": {},
   "outputs": [
    {
     "data": {
      "text/plain": [
       "18.584374999999998"
      ]
     },
     "execution_count": 46,
     "metadata": {},
     "output_type": "execute_result"
    }
   ],
   "source": [
    "mean_squared_error(pdf.price, model.predict(pdf[['toppings']]))"
   ]
  },
  {
   "cell_type": "code",
   "execution_count": null,
   "metadata": {},
   "outputs": [],
   "source": []
  }
 ],
 "metadata": {
  "kernelspec": {
   "display_name": "Python 3",
   "language": "python",
   "name": "python3"
  },
  "language_info": {
   "codemirror_mode": {
    "name": "ipython",
    "version": 3
   },
   "file_extension": ".py",
   "mimetype": "text/x-python",
   "name": "python",
   "nbconvert_exporter": "python",
   "pygments_lexer": "ipython3",
   "version": "3.7.3"
  }
 },
 "nbformat": 4,
 "nbformat_minor": 4
}
